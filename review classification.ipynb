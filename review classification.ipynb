{
 "metadata": {
  "language_info": {
   "codemirror_mode": {
    "name": "ipython",
    "version": 3
   },
   "file_extension": ".py",
   "mimetype": "text/x-python",
   "name": "python",
   "nbconvert_exporter": "python",
   "pygments_lexer": "ipython3",
   "version": "3.7.9-final"
  },
  "orig_nbformat": 2,
  "kernelspec": {
   "name": "python3",
   "display_name": "Python 3",
   "language": "python"
  }
 },
 "nbformat": 4,
 "nbformat_minor": 2,
 "cells": [
  {
   "cell_type": "code",
   "execution_count": 1,
   "metadata": {},
   "outputs": [],
   "source": [
    "import pandas as pd\n",
    "import numpy as np"
   ]
  },
  {
   "cell_type": "code",
   "execution_count": 2,
   "metadata": {},
   "outputs": [
    {
     "output_type": "execute_result",
     "data": {
      "text/plain": [
       "                                              Review  Rating\n",
       "0  I loved this movie since I was 7 and I saw it ...      10\n",
       "1  First things first, Edison Chen did a fantasti...       8\n",
       "2  Once again, I was browsing through the discoun...       7\n",
       "3  This is a gem, a real piece of Americana for a...       8\n",
       "4  While I had wanted to se this film since the f...       8"
      ],
      "text/html": "<div>\n<style scoped>\n    .dataframe tbody tr th:only-of-type {\n        vertical-align: middle;\n    }\n\n    .dataframe tbody tr th {\n        vertical-align: top;\n    }\n\n    .dataframe thead th {\n        text-align: right;\n    }\n</style>\n<table border=\"1\" class=\"dataframe\">\n  <thead>\n    <tr style=\"text-align: right;\">\n      <th></th>\n      <th>Review</th>\n      <th>Rating</th>\n    </tr>\n  </thead>\n  <tbody>\n    <tr>\n      <th>0</th>\n      <td>I loved this movie since I was 7 and I saw it ...</td>\n      <td>10</td>\n    </tr>\n    <tr>\n      <th>1</th>\n      <td>First things first, Edison Chen did a fantasti...</td>\n      <td>8</td>\n    </tr>\n    <tr>\n      <th>2</th>\n      <td>Once again, I was browsing through the discoun...</td>\n      <td>7</td>\n    </tr>\n    <tr>\n      <th>3</th>\n      <td>This is a gem, a real piece of Americana for a...</td>\n      <td>8</td>\n    </tr>\n    <tr>\n      <th>4</th>\n      <td>While I had wanted to se this film since the f...</td>\n      <td>8</td>\n    </tr>\n  </tbody>\n</table>\n</div>"
     },
     "metadata": {},
     "execution_count": 2
    }
   ],
   "source": [
    "l=[]\n",
    "f = open(\"imdb_trainX.txt\",encoding=\"utf8\")\n",
    "for x in f.readlines():\n",
    "    x=x.replace(\"<br />\",\"\")\n",
    "    x=x.replace(\"\\n\",\"\")\n",
    "    l.append(x)\n",
    "df=pd.DataFrame(l,columns=[\"Review\"])\n",
    "l=[]\n",
    "f = open(\"imdb_trainY.txt\", encoding=\"utf8\")\n",
    "for x in f.readlines():\n",
    "    #x=x.replace(\"\\n\",\"\")\n",
    "    l.append(int(x))\n",
    "df[\"Rating\"]=l\n",
    "\n",
    "df.head()"
   ]
  },
  {
   "cell_type": "code",
   "execution_count": 3,
   "metadata": {},
   "outputs": [
    {
     "output_type": "execute_result",
     "data": {
      "text/plain": [
       "\"I loved this movie since I was 7 and I saw it on the opening day. It was so touching and beautiful. I strongly recommend seeing for all. It's a movie to watch with your family by far.My MPAA rating: PG-13 for thematic elements, prolonged scenes of disastor, nudity/sexuality and some language.\""
      ]
     },
     "metadata": {},
     "execution_count": 3
    }
   ],
   "source": [
    "df[\"Review\"][0]"
   ]
  },
  {
   "cell_type": "code",
   "execution_count": 4,
   "metadata": {},
   "outputs": [],
   "source": [
    "from nltk.tokenize import RegexpTokenizer\n",
    "tokenizer=RegexpTokenizer('[a-zA-Z]+')\n",
    "from nltk.corpus import stopwords\n",
    "sw=set(stopwords.words('english'))\n",
    "sw.add(\"It\")\n",
    "sw.add(\"I\")\n",
    "sw.add(\"it\")\n",
    "sw.remove(\"not\")\n",
    "from nltk.stem.snowball import PorterStemmer\n",
    "ps=PorterStemmer()"
   ]
  },
  {
   "cell_type": "code",
   "execution_count": 5,
   "metadata": {},
   "outputs": [],
   "source": [
    "def textcleaner(l):\n",
    "    words=[]\n",
    "    sents=[]\n",
    "    for i in range(len(l)):\n",
    "        l[i]=(tokenizer.tokenize(l[i]))\n",
    "        l[i]=[w for w in l[i] if w not in sw]\n",
    "        for j in range(len(l[i])):\n",
    "            l[i][j]=ps.stem(l[i][j])\n",
    "        sents.append(\" \".join(l[i]))\n",
    "    words=[]\n",
    "    return sents"
   ]
  },
  {
   "cell_type": "code",
   "execution_count": 6,
   "metadata": {},
   "outputs": [
    {
     "output_type": "stream",
     "name": "stderr",
     "text": [
      "ipykernel_launcher:5: SettingWithCopyWarning: \n",
      "A value is trying to be set on a copy of a slice from a DataFrame\n",
      "\n",
      "See the caveats in the documentation: https://pandas.pydata.org/pandas-docs/stable/user_guide/indexing.html#returning-a-view-versus-a-copy\n",
      "ipykernel_launcher:6: SettingWithCopyWarning: \n",
      "A value is trying to be set on a copy of a slice from a DataFrame\n",
      "\n",
      "See the caveats in the documentation: https://pandas.pydata.org/pandas-docs/stable/user_guide/indexing.html#returning-a-view-versus-a-copy\n",
      "love movi sinc saw open day touch beauti strongli recommend see movi watch famili far My mpaa rate PG themat element prolong scene disastor nuditi sexual languag\n"
     ]
    }
   ],
   "source": [
    "sents=textcleaner(df[\"Review\"])\n",
    "print(sents[0])"
   ]
  },
  {
   "cell_type": "code",
   "execution_count": 18,
   "metadata": {},
   "outputs": [
    {
     "output_type": "stream",
     "name": "stdout",
     "text": [
      "[[0 0 0 ... 0 0 0]\n [0 0 0 ... 0 0 0]\n [0 0 0 ... 0 0 0]\n ...\n [0 0 0 ... 0 0 0]\n [0 0 0 ... 0 0 0]\n [0 0 0 ... 0 0 0]]\n"
     ]
    }
   ],
   "source": [
    "from sklearn.feature_extraction.text import CountVectorizer\n",
    "cv=CountVectorizer()\n",
    "vc=cv.fit_transform(sents[:100]).toarray()\n",
    "print(vc)"
   ]
  },
  {
   "cell_type": "code",
   "execution_count": 20,
   "metadata": {
    "tags": [
     "outputPrepend"
    ]
   },
   "outputs": [
    {
     "output_type": "stream",
     "name": "stdout",
     "text": [
      "effrey': 1820, 'comb': 670, 'anton': 148, 'mordrid': 2238, 'fantasi': 1221, 'fare': 1224, 'chees': 571, 'gore': 1464, 'fell': 1243, 'goldsworthi': 1456, 'warm': 3735, 'dirt': 943, 'broken': 414, 'fingernail': 1277, 'respond': 2831, 'rap': 2731, 'cube': 809, 'band': 249, 'solo': 3158, 'dr': 998, 'dre': 1005, 'spree': 3223, 'explain': 1179, 'booti': 364, 'juic': 1849, 'polit': 2588, 'statement': 3249, 'hilari': 1602, 'tasti': 3397, 'vanilla': 3661, 'sherbert': 3051, 'ass': 195, 'record': 2768, 'bachelor': 238, 'parti': 2479, 'coleman': 660, 'jason': 1817, 'dancer': 832, 'becki': 284, 'julia': 1851, 'stile': 3267, 'drink': 1011, 'wake': 3721, 'fianc': 1257, 'karen': 1860, 'selma': 2997, 'blair': 330, 'desper': 907, 'hurri': 1667, 'sooner': 3175, 'crab': 771, 'prepar': 2631, 'wed': 3760, 'dinner': 937, 'cousin': 766, 'trio': 3558, 'drugstor': 1018, 'explan': 1180, 'medicin': 2149, 'minist': 2194, 'reader': 2748, 'vote': 3716, 'seven': 3026, 'louco': 2040, 'por': 2597, 'ela': 1067, 'them': 3443, 'jade': 1809, 'hundr': 1663, 'hindi': 1605, 'bollywood': 354, 'surround': 3358, 'udit': 3584, 'narayan': 2281, 'imperfect': 1704, 'woven': 3843, 'allow': 92, 'heartfelt': 1573, 'resolut': 2827, 'alok': 96, 'nath': 2286, 'anyon': 151, 'superfici': 3343, 'otherwis': 2425, 'lambast': 1918, 'boggl': 352, 'trash': 3540, 'jami': 1814, 'foxx': 1350, 'spectacular': 3195, 'thrown': 3477, 'hudson': 1652, 'hawk': 1558, 'technolog': 3408, 'uber': 3582, 'geek': 1411, 'convincingli': 736, 'overdo': 2439, 'underli': 3602, 'matrix': 2127, 'of': 2379, 'mice': 2178, 'raw': 2741, 'fast': 1229, 'toss': 3517, 'trilog': 3556, 'should': 3065, 'essenti': 1129, 'cultur': 812, 'monti': 2231, 'python': 2707, 'bond': 357, 'who': 3786, 'massiv': 2119, 'longest': 2028, 'serial': 3016, 'season': 2977, 'reboot': 2761, 'agenda': 64, 'miscalcul': 2201, 'nine': 2323, 'spoof': 3218, 'mini': 2193, 'notwithstand': 2349, 'properli': 2675, 'courtesi': 764, 'acclaim': 17, 'russel': 2912, 'brillianc': 406, 'reintroduc': 2786, 'lie': 1984, 'decis': 863, 'outsid': 2434, 'tyler': 3579, 'piper': 2553, 'london': 2023, 'plastic': 2562, 'rescu': 2825, 'elus': 1081, 'stranger': 3286, 'introduc': 1778, 'christoph': 600, 'eccleston': 1044, 'disappear': 947, 'curiou': 816, 'space': 3188, 'omnipres': 2399, 'box': 382, 'tardi': 3393, 'polish': 2587, 'nail': 2276, 'protagonist': 2680, 'blend': 336, 'sci': 2957, 'fi': 1256, 'hybrid': 1672, 'export': 1185, 'link': 2000, 'round': 2899, 'ninth': 2324, 'eight': 1064, 'incarn': 1715, 'northern': 2338, 'accent': 12, 'daili': 827, 'basi': 262, 'justifi': 1856, 'north': 2337, 'theori': 3447, 'thousand': 3468, 'her': 1586, 'ordinari': 2418, 'repres': 2819, 'icon': 1679, 'instantli': 1757, 'indic': 1726, 'fifth': 1261, 'hartnel': 1548, 'davison': 847, 'dealer': 852, 'pre': 2620, 'code': 655, 'borzag': 370, 'depress': 897, 'fairi': 1207, 'amidst': 119, 'hardship': 1539, 'loretta': 2035, 'spencer': 3200, 'traci': 3526, 'trina': 3557, 'gruff': 1500, 'dynam': 1032, 'reward': 2848, 'soft': 3152, 'hazi': 1561, 'dreami': 1007, 'squatter': 3228, 'villag': 3693, 'palac': 2464, 'integr': 1761, 'harsh': 1545, 'affection': 55, 'loesser': 2017, 'lyric': 2055, 'compet': 688, 'adapt': 37, 'damon': 829, 'runyon': 2909, 'materi': 2125, 'seamlessli': 2974, 'abe': 2, 'burrow': 448, 'outstand': 2435, 'joseph': 1838, 'wright': 3849, 'told': 3504, 'sentenc': 3007, 'nathan': 2287, 'detroit': 919, 'sinatra': 3094, 'cash': 515, 'financ': 1272, 'perman': 2519, 'float': 1301, 'chicago': 580, 'boss': 371, 'bet': 307, 'odd': 2377, 'ski': 3113, 'masterson': 2122, 'marlon': 2107, 'brando': 390, 'salvat': 2926, 'armi': 177, 'havana': 1555, 'gambler': 1397, 'riffraff': 2859, 'everybodi': 1146, 'impervi': 1705, 'marri': 2108, 'blain': 329, 'stubbi': 3305, 'kay': 1864, 'johnni': 1833, 'keith': 1868, 'pulley': 2697, 'sheldon': 3049, 'regi': 2782, 'toomey': 3511, 'kokanson': 1901, 'kathryn': 1863, 'givney': 1439, 'veda': 3667, 'ann': 137, 'borg': 368, 'simmon': 3087, 'tepid': 3423, 'sarah': 2933, 'smash': 3136, 'fugu': 1375, 'tinhorn': 3491, 'doll': 981, 'luck': 2046, 'be': 274, 'cold': 658, 'oldest': 2397, 'establish': 1130, 'permnanet': 2521, 'mankiewicz': 2091, 'cleopatra': 627, 'letter': 1971, 'wive': 3819, 'fame': 1215, 'proceed': 2656, 'adept': 43, 'vari': 3662, 'brawl': 391, 'preced': 2622, 'pet': 2529, 'me': 2142, 'poppa': 2595, 'uneven': 3611, 'instinct': 1759, 'styliz': 3320, 'amiabl': 118, 'ringmast': 2863, 'abli': 6, 'accord': 20, 'cowboy': 769, 'joel': 1830, 'mccrea': 2139, 'audi': 217, 'murphi': 2268, 'randolph': 2729, 'author': 222, 'albuquerqu': 83, 'hadn': 1514, 'western': 3770, 'somebodi': 3161, 'spring': 3224, 'feud': 1253, 'cleveland': 629, 'nephew': 2306, 'intent': 1766, 'freight': 1361, 'headquart': 1564, 'grow': 1498, 'settlement': 3025, 'wheelchair': 3774, 'sheriff': 3052, 'pocket': 2580, 'rival': 2872, 'hayden': 1560, 'catherin': 525, 'craig': 774, 'mata': 2123, 'hari': 1541, 'britton': 412, 'worm': 3835, 'confid': 704, 'homespun': 1625, 'vixen': 3712, 'studio': 3310, 'contract': 727, 'lon': 2022, 'chaney': 553, 'chief': 582, 'henchman': 1584, 'loathsom': 2012, 'bulli': 441, 'gabbi': 1391, 'republican': 2823, 'rule': 2906, 'democrat': 888, 'hash': 1550, 'presidenti': 2634, 'elect': 1068, 'ersatz': 1122, 'comeupp': 675, 'injur': 1742, 'gop': 1462, 'remad': 2799, 'stephen': 3261, 'occas': 2371, 'stanley': 3241, 'kubrick': 1903, 'retel': 2837, 'convey': 733, 'terror': 3430, 'psych': 2689, 'screenplay': 2968, 'acquir': 25, 'magu': 2070, 'wide': 3789, 'shut': 3073, 'metal': 2173, 'jacket': 1806, 'lyndon': 2054, 'clockwork': 637, 'orang': 2416, 'odyssey': 2378, 'spartacu': 3192, 'torrenc': 3515, 'jack': 1805, 'wendi': 3768, 'overlook': 2442, 'hotel': 1642, 'caretak': 502, 'upkeep': 3639, 'month': 2229, 'snow': 3143, 'reopen': 2811, 'tourist': 3521, 'flock': 1302, 'colorado': 668, 'mountain': 2250, 'getaway': 1423, 'architectur': 171, 'lent': 1965, 'welcom': 3766, 'furnish': 1386, 'furnitur': 1387, 'period': 2518, 'filmographi': 1269, 'landscap': 1922, 'isol': 1796, 'introduct': 1779, 'neat': 2297, 'introductori': 1780, 'stretch': 3292, 'again': 62, 'tow': 3522, 'interact': 1767, 'exchang': 1163, 'tour': 3520, 'breathtak': 396, 'staff': 3233, 'majest': 2074, 'cathedr': 524, 'ceil': 531, 'expens': 1174, 'dormant': 992, 'mold': 2220, 'pink': 2551, 'maze': 2136, 'labyrinth': 1909, 'minotaur': 2195, 'crete': 790, 'nicholson': 2317, 'scale': 2941, 'magick': 2068, 'serious': 3018, 'scatman': 2947, 'cruther': 807, 'dick': 926, 'halloran': 1521, 'genuin': 1419, 'doc': 971, 'sincer': 3096, 'scan': 2942, 'loom': 2032, 'swirl': 3371, 'mist': 2205, 'roof': 2890, 'snowbound': 3144, 'shelley': 3050, 'duval': 1026, 'oyl': 2453, 'marvel': 2113, 'lol': 2021, 'popey': 2594, 'fiend': 1259, 'roxann': 2901, 'pearli': 2501, 'possess': 2606, 'clairvoy': 616, 'layout': 1945, 'butcher': 454, 'delbert': 877, 'gradi': 1474, 'afraid': 58, 'result': 2836, 'mouth': 2252, 'manifest': 2089, 'finger': 1276, 'spoke': 3216, 'somehow': 3163, 'shower': 3070, 'lia': 1977, 'beldan': 296, 'gibson': 1432, 'seduct': 2984, 'obnoxi': 2365, 'thoroughli': 3464, 'disgust': 956, 'abhorr': 3, 'decompos': 864, 'flesh': 1295, 'beneath': 302, 'sheer': 3047, 'embark': 1083, 'trek': 3548, 'jones': 1837, 'certifi': 544, 'degrad': 874, 'document': 974, 'instant': 1756, 'friendship': 1366, 'lloyd': 2009, 'bartend': 258, 'patient': 2489, 'addict': 39, 'press': 2635, 'bourbon': 380, 'charg': 561, 'page': 2458, 'albeit': 80, 'creativ': 785, 'whirl': 3784, 'scream': 2966, 'basebal': 260, 'bat': 265, 'poignant': 2583, 'vision': 3705, 'lobbi': 2013, 'confront': 708, 'redrum': 2772, 'awaken': 228, 'knife': 1894, 'freaki': 1357, 'exclaim': 1165, 'had': 1513, 'th': 3433, 'axe': 236, 'scariest': 2946, 'lib': 1979, 'heeeeer': 1578, 'smarm': 3134, 'platitudin': 2564, 'whine': 3783, 'tear': 3404, 'just': 1854, 'epitom': 1114, 'rawk': 2742, 'sitck': 3104, 'stick': 3266, 'grade': 1472, 'mm': 2212, 'reel': 2773, 'grader': 1473, 'nanci': 2280, 'fagin': 1203, 'sick': 3075, 'class': 617, 'linger': 1999, 'reiser': 2787, 'falk': 1211, 'cri': 792, 'kleinman': 1892, 'soever': 3151, 'cant': 488, 'hey': 1593, 'outcom': 2429, 'tune': 3569, 'soundtrack': 3183, 'blu': 344, 'spark': 3190, 'allud': 93, 'pub': 2693, 'avoid': 226, 'enigmat': 1099, 'steel': 3258, 'unexplain': 3613, 'bob': 349, 'maintain': 2073, 'multi': 2263, 'neighborhood': 2302, 'stupid': 3314, 'bore': 367, 'crappi': 777, 'overr': 2444, 'hype': 1674, 'sad': 2918, 'eleph': 1073, 'someom': 3164, 'trigger': 3555, 'focus': 1308, 'deana': 853, 'christensen': 596, 'healthi': 1566, 'student': 3308, 'luckili': 2048, 'hospit': 1640, 'pain': 2460, 'addit': 40, 'meanwhil': 2147, 'alicia': 87, 'phillip': 2533, 'rebelli': 2760, 'social': 3149, 'goth': 1467, 'unharm': 3616, 'princip': 2645, 'funer': 1382, 'traumat': 3542, 'hurt': 1668, 'tie': 3484, 'asham': 189, 'shoulder': 3066, 'hewlett': 1592, 'miller': 2189, 'pickl': 2540, 'embezzl': 1085, 'torn': 3514, 'improv': 1712, 'vincenzo': 3696, 'natali': 2285, 'firstli': 1281, 'fullest': 1378, 'poetic': 2582, 'heartwarm': 1574, 'unrealist': 3632, 'everywher': 1150, 'dislik': 958, 'load': 2011, 'tast': 3396, 'issu': 1799, 'accus': 22, 'oneself': 2403, 'beaten': 280, 'drove': 1015, 'storytel': 3280, 'chose': 593, 'unmov': 3626, 'gabriella': 1392, 'arrest': 180, 'harm': 1542, 'spoil': 3214, 'wa': 3719, 'holi': 1617, 'pleas': 2569, 'nevertheless': 2311, 'discomfort': 952, 'tim': 3489, 'burton': 450, 'glamor': 1442, 'grandfath': 1476, 'forth': 1340, 'outlin': 2431, 'propos': 2677, 'toast': 3499, 'cring': 795, 'induc': 1729, 'heartbreak': 1571, 'beano': 276, 'danc': 831, 'nighi': 2320, 'justli': 1857, 'compliment': 693, 'rea': 2745, 'lovabl': 2042, 'keyboard': 1876, 'torch': 3513, 'hangdog': 1528, 'hug': 1653, 'garbagemen': 1401, 'strangelov': 3285, 'injuri': 1743, 'choke': 590, 'hilar': 1601, 'cup': 815, 'tea': 3400, 'quot': 2721, 'gooni': 1461, 'goo': 1458, 'fart': 1227, 'aunt': 220, 'bunni': 444, 'out': 2428, 'skit': 3118, 'robin': 2876, 'wayan': 3752, 'dice': 925, 'carlin': 504, 'richard': 2854, 'pryor': 2688, 'buckwheat': 432, 'snl': 3142, 'crack': 772, 'homosexu': 1626, 'mighti': 2184, 'erupt': 1123, 'gale': 1394, 'unleash': 3622, 'barrag': 256, 'relentless': 2793, 'stomach': 3271, 'bigger': 314, 'uncut': 3599, 'unapologet': 3592, 'jugular': 1848, 'deliri': 883, 'pole': 2585, 'slam': 3120, 'gu': 1501, 'shit': 3055, 'movin': 2255, 'freakin': 1358, 'palm': 2466, 'craven': 780, 'brand': 389, 'goer': 1453, 'tight': 3487, 'undemand': 3600, 'packag': 2457, 'lightweight': 1988, 'inflight': 1735, 'vagu': 3653, 'hitchcockian': 1611, 'echo': 1045, 'schumach': 2956, 'booth': 363, 'sophist': 3177, 'pretenti': 2637, 'crisi': 797, 'airlin': 76, 'cillian': 605, 'ici': 1678, 'eloqu': 1077, 'rippner': 2868, 'rachel': 2722, 'macadam': 2056, 'resourc': 2829, 'zing': 3878, 'rib': 2851, 'feminin': 1249, 'sensit': 3004, 'portion': 2599, 'indulg': 1730, 'revel': 2843, 'treatment': 3547, 'ubiqut': 3583, 'trooper': 3562, 'sexegenarian': 3030, 'jude': 1846, 'haul': 1553, 'dogtown': 977, 'staci': 3232, 'peralta': 2510, 'counti': 757, 'surf': 3352, 'parent': 2475, 'boogeyboard': 360, 'collector': 665, 'item': 1803, 'eytan': 1194, 'yossi': 3867, 'jagger': 1810, 'hr': 1649, 'deal': 851, 'tragedi': 3528, 'joy': 1843, 'urban': 3646, 'safeti': 2922, 'elsewher': 1079, 'equiti': 1117, 'pair': 2463, 'closet': 643, 'confin': 705, 'isra': 1797, 'militari': 2187, 'ha': 1512, 'buah': 428, 'civilian': 614, 'unit': 3619, 'israel': 1798, 'capit': 490, 'tel': 3412, 'aviv': 225, 'border': 366, 'noam': 2327, 'ohad': 2389, 'knoller': 1896, 'handsom': 1527, 'arab': 170, 'ashraf': 190, 'yousef': 3872, 'sweid': 3368, 'bloom': 342, 'climat': 633, 'seiz': 2992, 'altogeth': 107, 'intric': 1775, 'interplay': 1772, 'housem': 1646, 'unavoid': 3593, 'conserv': 714, 'vibrant': 3680, 'stark': 3246, 'east': 1040, 'subtitl': 3323, 'trap': 3539, 'cain': 465, 'soggi': 3153, 'dyan': 1030, 'cannon': 486, 'perfectli': 2514, 'exploit': 1183, 'annoy': 141, 'deathtrap': 857, 'sleuth': 3123, 'valid': 3655, 'warfar': 3733, 'equival': 1118, 'vignett': 3691, 'choos': 591, 'dozen': 997, 'destin': 911, 'stoogephil': 3274, 'stoog': 3273, 'curli': 817, 'dress': 1008, 'senorita': 3000, 'cucaracha': 810, 'moe': 2219, 'larri': 1928, 'senor': 2999, 'mucho': 2260, 'gusto': 1509, 'christin': 598, 'mcintyr': 2141, 'operat': 2409, 'rein': 2785, 'singer': 3098, 'gino': 1434, 'corrado': 748, 'pompou': 2589, 'societi': 3150, 'prolif': 2668, 'output': 2432, 'ill': 1690, 'haltingli': 1523, 'fortun': 1342, 'upsw': 3645, 'girlfriend': 1436, 'virgin': 3701, 'crasher': 778, 'satisfi': 2936, 'carrel': 509, 'andi': 128, 'keener': 1866, 'trish': 3560, 'lunaci': 2051, 'owen': 2449, 'wilson': 3798, 'vinc': 3695, 'vaughn': 3666, 'cult': 811, 'statu': 3253, 'riotou': 2864, 'anchorman': 125, 'bruce': 422, 'almighti': 94, 'treat': 3545, 'third': 3461, 'judd': 1845, 'apatow': 157, 'tricki': 3554, 'lessor': 1969, 'lacklust': 1912, 'josh': 1839, 'hartnett': 1549, 'dysfunct': 1033, 'suggest': 3333, 'pee': 2503, 'wee': 3761, 'herman': 1589, 'rudd': 2905, 'romani': 2885, 'mancoy': 2084, 'seth': 3023, 'rogen': 2880, 'foil': 1311, 'devis': 923, 'tip': 3493, 'cherri': 575, 'overli': 2441, 'drunk': 1019, 'jane': 1815, 'mockumentari': 2215, 'explit': 1181, 'fade': 1202, 'street': 3290, 'worri': 3836, 'formal': 1333, 'stray': 3288, 'fellow': 1245, 'worker': 3832, 'truth': 3567, 'wise': 3807, 'comedian': 674, 'farrelli': 1226, 'absurd': 10, 'aquariu': 169, 'uproari': 3643, 'scienc': 2958, 'fiction': 1258, 'destruct': 913, 'aftermath': 60, 'refuge': 2779, 'flee': 1294, 'tini': 3492, 'can': 478, 'protect': 2681, 'spaceship': 3189, 'battlestar': 271, 'pegasu': 2504, 'heat': 1575, 'cylon': 824, 'max': 2131, 'fuel': 1373, 'distant': 966, 'starbuck': 3243, 'apollo': 158, 'thumb': 3480, 'bedknob': 287, 'broomstick': 417, 'angela': 131, 'lansburi': 1925, 'apprentic': 166, 'witch': 3812, 'evacue': 1141, 'children': 585, 'professor': 2661, 'witchcraft': 3813, 'thwart': 3482, 'catchi': 522, 'eglantin': 1062, 'lifetim': 1986, 'callaghan': 469, 'snart': 3141, 'weighil': 3764, 'cockney': 654, 'rascal': 2736, 'aid': 72, 'hun': 1662, 'mix': 2210, 'potter': 2614, 'slice': 3124, 'escap': 1125, 'portobello': 2601, 'mar': 2097, 'forgiven': 1330, 'uk': 3587, 'forsyth': 1338, 'spiv': 3207, 'guarante': 1502, 'evoc': 1153, 'ideal': 1682, 'lincoln': 1994, 'hodgensvil': 1613, 'kentucki': 1872, 'washington': 3741, 'ford': 1323, 'abraham': 7, 'fonda': 1316, 'youth': 3873, 'biographi': 320, 'log': 2018, 'todd': 3501, 'weaver': 3759, 'ball': 246, 'congress': 710, 'candid': 482, 'cromwel': 799, 'quillan': 2717, 'posterior': 2610, 'trial': 3552, 'court': 763, 'debat': 858, 'mum': 2265, 'alic': 86, 'bradi': 386, 'advoc': 53, 'donald': 985, 'meek': 2153, 'prosecutor': 2678, 'idealist': 1683, 'springfield': 3225, 'solicitor': 3156, 'regularli': 2784, 'grape': 1479, 'wrath': 3846, 'darl': 841, 'clementin': 626, 'fort': 1339, 'apach': 155, 'sterl': 3264, 'griev': 1489, 'cancer': 480, 'deed': 865, 'skil': 3114, 'nostalg': 2341, 'upright': 3642, 'straightforward': 3282, 'walter': 3727, 'huston': 1671, 'una': 3590, 'merkel': 2169, 'birth': 324, 'assassin': 196, 'illinoi': 1691, 'ruth': 2913, 'vidal': 3685, 'waterston': 3748, 'moor': 2235, 'bandit': 250, 'terri': 3425, 'gilliam': 1433, 'miik': 2185, 'surreal': 3357, 'bunuel': 445, 'esquir': 1128, 'violent': 3700, 'juxtapos': 1858, 'ensu': 1105, 'therein': 3452, 'metaphor': 2174, 'folli': 1313, 'manic': 2088, 'endless': 1093, 'amount': 122, 'yokai': 3865, 'japanes': 1816, 'folk': 1312, 'lore': 2034, 'via': 3679, 'cg': 545, 'puppetri': 2700, 'facet': 1200, 'rad': 2724, 'highlight': 1600, 'raptor': 2734, 'editor': 1054, 'hole': 1616, 'rex': 2849, 'pappi': 2471, 'chamber': 549, 'embroil': 1086, 'activ': 30, 'varieti': 3663, 'angl': 132, 'constant': 718, 'vital': 3709, 'samuel': 2930, 'fuller': 1377, 'macdonald': 2057, 'composit': 695, 'ace': 23, 'pickpocket': 2541, 'skip': 3117, 'widmark': 3790, 'wallet': 3726, 'candi': 481, 'subway': 3326, 'ex': 1155, 'boyfriend': 384, 'joey': 1831, 'kiley': 1883, 'deliveri': 885, 'contact': 722, 'organis': 2419, 'govern': 1470, 'microfilm': 2180, 'fbi': 1238, 'agent': 65, 'theft': 3440, 'zara': 3875, 'bouchey': 378, 'dan': 830, 'tiger': 3486, 'murvyn': 2269, 'vye': 3718, 'pursuit': 2703, 'ringlead': 2862, 'thelma': 3442, 'descript': 902, 'flippant': 1300, 'arrog': 182, 'trust': 3566, 'knowledg': 1898, 'stole': 3270, 'retriev': 2839, 'address': 42, 'knock': 1895, 'unconsci': 3598, 'demand': 886, 'payment': 2496, 'evolv': 1154, 'resolv': 2828, 'gang': 1399, 'depict': 896, 'seedi': 2986, 'consider': 716, 'commun': 681, 'seek': 2988, 'cun': 814, 'streetwis': 3291, 'vulner': 3717, 'clock': 636, 'burial': 446, 'cemeteri': 536, 'island': 1794, 'regardless': 2781, 'principl': 2646, 'fatal': 1230, 'merit': 2168, 'nomin': 2330, 'earn': 1036, 'convict': 734, 'threat': 3469, 'mere': 2167, 'ensur': 1106, 'hooker': 1634, 'whose': 3788, 'peril': 2517, 'exterior': 1188, 'warmer': 3736, 'gradual': 1475, 'evid': 1151, 'bela': 295, 'lagosi': 1915, 'bride': 402, 'altar': 103, 'fli': 1296, 'postpon': 2612, 'sickli': 3076, 'elud': 1080, 'keyston': 1877, 'hears': 1569, 'corps': 747, 'zap': 3874, 'loi': 2020, 'lane': 1923, 'strand': 3283, 'thunderstorm': 3481, 'guest': 1505, 'sinist': 3101, 'passageway': 2486, 'vampir': 3659, 'dwarf': 1028, 'igor': 1688, 'assist': 199, 'sceneri': 2950, 'hokkaid': 1614, 'intimaci': 1774, 'defa': 867, 'br': 385, 'pillar': 2547, 'friday': 1363, 'banana': 248, 'dinosaur': 939, 'is': 1792, 'eleven': 1074, 'chitchat': 589, 'ensembl': 1104, 'shia': 3053, 'labeouf': 1908, 'portman': 2600, 'orlando': 2421, 'garcia': 1402, 'christina': 599, 'ricci': 2852, 'irrfan': 1791, 'khan': 1878, 'penn': 2507, 'ethan': 1135, 'bradley': 387, 'bilson': 317, 'yelchin': 3863, 'stellar': 3260, 'sum': 3335, 'meaningless': 2145, 'maggi': 2066, 'appal': 159, 'experiment': 1177, 'tone': 3508, 'eli': 1075, 'wallach': 3725, 'anniversari': 139, 'consist': 717, 'unsatisfi': 3633, 'ether': 1136, 'worthwhil': 3840, 'wast': 3742, 'ripper': 2867, 'those': 3465, 'stupidest': 3315, 'funnest': 1383, 'clone': 638, 'doink': 978, 'deathi': 856, 'sky': 3119, 'split': 3212, 'splat': 3208, 'la': 1907, 'maman': 2081, 'et': 1132, 'putain': 2706, 'post': 2608, 'etern': 1134, 'monologu': 2224, 'spoken': 3217, 'fran': 1352, 'ois': 2391, 'lebrun': 1955, 'text': 3432, 'womanhood': 3823, 'manhood': 2085, 'imho': 1698, 'pierr': 2545, 'aud': 216, 'dear': 854, 'oireland': 2390, 'religion': 2797, 'nonsens': 2334, 'hunki': 1665, 'macho': 2060, 'freedom': 1359, 'ira': 1787, 'sean': 2975, 'cloney': 639, 'sheila': 3048, 'kelli': 1870, 'slight': 3125, 'cathol': 526, 'church': 603, 'pledg': 2574, 'which': 3781, 'priest': 2643, 'stafford': 3234, 'card': 497, 'irish': 1789, 'heritag': 1588, 'agnost': 68, 'atheist': 206, 'marxist': 2115, 'divid': 969, 'appoint': 164, 'temer': 3416, 'repli': 2816, 'propaganda': 2674, 'worst': 3838, 'wexford': 3771, 'sheep': 3046, 'blameless': 333, 'rural': 2910, 'consequ': 713, 'former': 1334, 'bailey': 244, 'gallant': 1395, 'devil': 922, 'own': 2450, 'agre': 70, 'tvm': 3572, 'opium': 2411, 'mass': 2117, 'jim': 1826, 'carrey': 510, 'temporarili': 3417, 'wreck': 3847, 'havoc': 1557, 'jennif': 1821, 'aniston': 135, 'freeman': 1360, 'cancel': 479, 'iti': 1804, 'humour': 1661, 'kurt': 1905, 'lawrenc': 1941, 'sibl': 3074, 'fatherli': 1232, 'awkward': 234, 'holocaust': 1621, 'adject': 44, 'formerli': 1335, 'unawar': 3594, 'incomprehens': 1720, 'horrif': 1637, 'hanna': 1530, 'particip': 2480, 'hungarian': 1664, 'maruschka': 2112, 'detmer': 918, 'inconsist': 1721, 'enorm': 1102, 'charisma': 562, 'sympathi': 3378, 'menahem': 2164, 'golan': 1454, 'despis': 909, 'gianni': 1430, 'versac': 3675, 'rush': 2911, 'tragic': 3529, 'bewar': 310, 'pleasenc': 2572, 'cruel': 806, 'sardon': 2934, 'rosza': 2897, 'intens': 1765, 'injustic': 1744, 'ellen': 1076, 'burstyn': 449, 'romi': 2887, 'schneider': 2954, 'prospect': 2679, 'news': 2314, 'unexpect': 3612, 'bomb': 355}\n"
     ]
    }
   ],
   "source": [
    "print(cv.vocabulary_)"
   ]
  },
  {
   "cell_type": "code",
   "execution_count": 21,
   "metadata": {},
   "outputs": [
    {
     "output_type": "execute_result",
     "data": {
      "text/plain": [
       "(100, 3880)"
      ]
     },
     "metadata": {},
     "execution_count": 21
    }
   ],
   "source": [
    "vc.shape"
   ]
  },
  {
   "cell_type": "code",
   "execution_count": 22,
   "metadata": {},
   "outputs": [],
   "source": [
    "from sklearn.naive_bayes import MultinomialNB, BernoulliNB, GaussianNB"
   ]
  },
  {
   "cell_type": "code",
   "execution_count": 32,
   "metadata": {},
   "outputs": [
    {
     "output_type": "stream",
     "name": "stdout",
     "text": [
      "BernoulliNB()\n"
     ]
    }
   ],
   "source": [
    "mnb=BernoulliNB()\n",
    "print(mnb)"
   ]
  },
  {
   "cell_type": "code",
   "execution_count": 33,
   "metadata": {},
   "outputs": [
    {
     "output_type": "execute_result",
     "data": {
      "text/plain": [
       "BernoulliNB()"
      ]
     },
     "metadata": {},
     "execution_count": 33
    }
   ],
   "source": [
    "mnb.fit(vc,df[\"Rating\"][:100])"
   ]
  },
  {
   "cell_type": "code",
   "execution_count": 42,
   "metadata": {},
   "outputs": [
    {
     "output_type": "stream",
     "name": "stdout",
     "text": [
      "[[0 0 0 ... 0 0 0]\n [0 0 0 ... 0 0 0]]\n[10 10]\n"
     ]
    }
   ],
   "source": [
    "xtest=cv.transform(sents[173:175]).toarray()\n",
    "print(xtest)\n",
    "print(mnb.predict(xtest))"
   ]
  },
  {
   "cell_type": "code",
   "execution_count": 43,
   "metadata": {},
   "outputs": [
    {
     "output_type": "execute_result",
     "data": {
      "text/plain": [
       "173    7\n",
       "174    9\n",
       "Name: Rating, dtype: int64"
      ]
     },
     "metadata": {},
     "execution_count": 43
    }
   ],
   "source": [
    "df[\"Rating\"][173:175]"
   ]
  },
  {
   "cell_type": "code",
   "execution_count": 44,
   "metadata": {},
   "outputs": [
    {
     "output_type": "execute_result",
     "data": {
      "text/plain": [
       "array([[2.42934827e-47, 4.07537958e-24, 1.63323512e-83, 1.00000000e+00],\n",
       "       [2.00005903e-41, 6.42658310e-20, 3.55685145e-73, 1.00000000e+00]])"
      ]
     },
     "metadata": {},
     "execution_count": 44
    }
   ],
   "source": [
    "mnb.predict_proba(xtest)"
   ]
  },
  {
   "cell_type": "code",
   "execution_count": null,
   "metadata": {},
   "outputs": [],
   "source": []
  }
 ]
}